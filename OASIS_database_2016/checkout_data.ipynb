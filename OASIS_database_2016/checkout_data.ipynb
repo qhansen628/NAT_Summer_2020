{
 "metadata": {
  "language_info": {
   "codemirror_mode": {
    "name": "ipython",
    "version": 3
   },
   "file_extension": ".py",
   "mimetype": "text/x-python",
   "name": "python",
   "nbconvert_exporter": "python",
   "pygments_lexer": "ipython3",
   "version": "3.7.6-final"
  },
  "orig_nbformat": 2,
  "kernelspec": {
   "name": "python3",
   "display_name": "Python 3"
  }
 },
 "nbformat": 4,
 "nbformat_minor": 2,
 "cells": [
  {
   "cell_type": "code",
   "execution_count": null,
   "metadata": {},
   "outputs": [],
   "source": [
    "import pandas as pd\n",
    "import matplotlib.pyplot as plt \n"
   ]
  },
  {
   "cell_type": "code",
   "execution_count": null,
   "metadata": {},
   "outputs": [],
   "source": [
    "raw_data = pd.read_csv('OASIS_bygender.csv')\n",
    "raw_data[raw_data['Valence_mean_men'] >= 3]"
   ]
  },
  {
   "cell_type": "code",
   "execution_count": null,
   "metadata": {},
   "outputs": [],
   "source": [
    "plt.imshow(plt.imread('images/Acorns 1.jpg'))"
   ]
  },
  {
   "cell_type": "code",
   "execution_count": null,
   "metadata": {},
   "outputs": [],
   "source": [
    "#CATEGORIES ANIMALS, OBJECTS, PEOPLE, SCENES\n",
    "#raw_data[raw_data['Category'] ==1]['Theme'] CATEGORY 1 is animal\n",
    "#raw_data[raw_data['Category'] ==2]['Theme'] #CATEGORY 2 is objects\n",
    "#raw_data[raw_data['Category'] ==3]['Theme'] #category 3 is people\n",
    "#raw_data[raw_data['Category'] ==4]['Theme'] #category 4 is scenes\n",
    "cates = {'animals':1, 'objects':2,'people':3,'scenes':4}"
   ]
  },
  {
   "cell_type": "code",
   "execution_count": null,
   "metadata": {},
   "outputs": [],
   "source": [
    "#Valence and Arousal measured on a 1-7 scale\n",
    "print('Valence max min men:',raw_data['Valence_mean_men'].max(),raw_data['Valence_mean_men'].min())\n",
    "print('Valence max min women:',raw_data['Valence_mean_women'].max(),raw_data['Valence_mean_women'].min())\n",
    "print('Arousal max min men:',raw_data['Arousal_mean_men'].max(),raw_data['Arousal_mean_men'].min())\n",
    "print('Arousal max min women:',raw_data['Arousal_mean_women'].max(),raw_data['Arousal_mean_women'].min())"
   ]
  },
  {
   "cell_type": "code",
   "execution_count": null,
   "metadata": {
    "tags": []
   },
   "outputs": [],
   "source": [
    "def print_theme_types(data,category):\n",
    "    cate_df = data[data['Category'] == category]\n",
    "    themes = list(cate_df['Theme'].unique())\n",
    "    theme_types = []\n",
    "    for theme in themes:\n",
    "        theme_type = ' '.join(theme.split(' ')[:-1])\n",
    "        if theme_type not in theme_types:\n",
    "            theme_types.append(theme_type)\n",
    "            #print(theme_type) \n",
    "    return themes\n",
    "people_themes = print_theme_types(raw_data,cates['people'])\n",
    "people_themes"
   ]
  },
  {
   "cell_type": "code",
   "execution_count": null,
   "metadata": {},
   "outputs": [],
   "source": [
    "people_graphic = ['BDSM','Child labor' ,'Dead bodies' ,'Injury', 'Nude' ,'Severed', 'finger']\n",
    "def get_not_graphic(themes, graph_str_list):\n",
    "    themes_safe = [theme for theme in themes if all([graphic not in theme for graphic  in                             graph_str_list])]\n",
    "    return themes_safe\n",
    "people_themes_safe = get_not_graphic(people_themes,people_graphic)\n",
    "people_themes_safe[:10]"
   ]
  },
  {
   "cell_type": "code",
   "execution_count": null,
   "metadata": {},
   "outputs": [],
   "source": [
    "#get animal types\n",
    "animal_themes = print_theme_types(raw_data,cates['animals'])"
   ]
  },
  {
   "cell_type": "code",
   "execution_count": null,
   "metadata": {},
   "outputs": [],
   "source": [
    "\n",
    "animal_graphic = ['Animal carcass' 'Dog attack']\n",
    "animal_themes_safe = get_not_graphic(animal_themes,animal_graphic)\n",
    "animal_themes_safe[:10]"
   ]
  },
  {
   "cell_type": "code",
   "execution_count": null,
   "metadata": {},
   "outputs": [],
   "source": [
    "#honestly probably not too graphic\n",
    "object_themes = print_theme_types(raw_data,cates['objects'])"
   ]
  },
  {
   "cell_type": "code",
   "execution_count": null,
   "metadata": {},
   "outputs": [],
   "source": [
    "scene_themes = print_theme_types(raw_data,cates['scenes'])"
   ]
  },
  {
   "cell_type": "code",
   "execution_count": null,
   "metadata": {
    "tags": []
   },
   "outputs": [],
   "source": [
    "[animal_themes_safe, people_themes_safe]\n",
    "themes_to_check = {cates['animals']:animal_themes_safe,\n",
    "                    cates['people']:people_themes_safe}\n",
    "safe_inds = []\n",
    "for i,row in raw_data.iterrows():\n",
    "    safe_list = themes_to_check.get(row['Category'],None)\n",
    "    if safe_list:\n",
    "        if row['Theme'] in safe_list:\n",
    "            safe_inds.append(i)\n",
    "        else:\n",
    "            print('rejected:',row['Theme'])\n",
    "    else:\n",
    "        safe_inds.append(i)"
   ]
  },
  {
   "cell_type": "code",
   "execution_count": null,
   "metadata": {},
   "outputs": [],
   "source": [
    "safe_df = raw_data.iloc[safe_inds]\n",
    "safe_df.head()"
   ]
  },
  {
   "cell_type": "code",
   "execution_count": null,
   "metadata": {},
   "outputs": [],
   "source": [
    "bin_num = 3\n",
    "#data['p_5'] = pd.qcut(data[2],q=4,labels=labels)\n",
    "vals_2_bin = ['Valence_mean_men','Valence_mean_women','Arousal_mean_women','Arousal_mean_men']\n",
    "for val in vals_2_bin:\n",
    "    col_name = val +'_bin'\n",
    "    safe_df[col_name] = pd.qcut(safe_df[val],q=bin_num,labels=list(range(1,bin_num+1)))\n",
    "safe_df.head()"
   ]
  },
  {
   "cell_type": "code",
   "execution_count": null,
   "metadata": {},
   "outputs": [],
   "source": [
    "\n",
    "idx = safe_df[(safe_df['Valence_mean_men_bin']==3) & (safe_df['Valence_SD_men'] >= 1)]['Valence_mean_men'].idxmax()\n",
    "\n",
    "theme = safe_df.iloc[idx]['Theme']\n",
    "file_name = 'Images/'+theme+'.jpg'\n",
    "plt.imshow(plt.imread(file_name))\n",
    "#safe_df[(safe_df['Valence_mean_men_bin']==4) & (safe_df['Valence_SD_men'] <= 1)]"
   ]
  },
  {
   "cell_type": "code",
   "execution_count": null,
   "metadata": {},
   "outputs": [],
   "source": [
    "#bin combinations\n",
    "combos = []\n",
    "for v_bin in range(1,4):\n",
    "    for a_bin in range(1,4):\n",
    "        combos.append((v_bin,a_bin))\n",
    "\n"
   ]
  },
  {
   "cell_type": "code",
   "execution_count": null,
   "metadata": {},
   "outputs": [],
   "source": [
    "def get_subset_of_images_bygender(data,path,sex = 'men',num_images=160,num_bins=3):\n",
    "    '''\n",
    "    save a csv of images with even distribution of valence, arousal combos\n",
    "    for sex the options are man and women, sorry if thats problematic.\n",
    "    people can do all instead of by gender if they wish\n",
    "    ''' \n",
    "    #get valence, arousal bin combos. bins are from 1 to 4\n",
    "    #so we want 1,1 1,2 ... 2,3 2,4 ... 3,1 ,3,2 ... 4,1 ... 4,4\n",
    "    combos = []\n",
    "    for v_bin in range(1,num_bins+1):\n",
    "        for a_bin in range(1,num_bins+1):\n",
    "            combos.append((v_bin,a_bin))\n",
    "\n",
    "    num_images_per_combo = round(num_images/len(combos))\n",
    "\n",
    "    v_mean_col = 'Valence_mean_'+sex\n",
    "    a_mean_col = 'Arousal_mean_'+sex\n",
    "    v_mean_col_bin = v_mean_col + '_bin'\n",
    "    a_mean_col_bin = a_mean_col +'_bin'\n",
    "\n",
    "    sample_df = None\n",
    "    num_pics_needed = 0\n",
    "   \n",
    "    for combo in combos:\n",
    "\n",
    "        combo_subset = data[(data[v_mean_col_bin] == combo[0]) & (data[a_mean_col_bin] == combo[1])]\n",
    "\n",
    "        if len(combo_subset) == 0:\n",
    "            \n",
    "            #don't worry about arousal, and use pics of people\n",
    "            combo_subset = data[(data[v_mean_col_bin] == combo[0]) & (data['Category'] == 3)]\n",
    "            combo_sample = combo_subset.sample(num_images_per_combo)\n",
    "\n",
    "        elif len(combo_subset) <= num_images_per_combo:\n",
    "            num_needed = num_images_per_combo - len(combo_subset)\n",
    "            rest_sample = data[(data[v_mean_col_bin] == combo[0]) & (data['Category'] == 3)].sample(num_needed)\n",
    "            combo_sample = combo_subset.append(rest_sample).drop_duplicates()\n",
    "\n",
    "        else:\n",
    "            combo_samples = combo_subset.sample(num_images_per_combo)\n",
    "        print(len(combo_samples))\n",
    "        if sample_df is None:\n",
    "            sample_df = combo_samples\n",
    "        else: \n",
    "            sample_df = sample_df.append(combo_samples)\n",
    "\n",
    "    sample_df = sample_df.drop_duplicates()\n",
    "\n",
    "    while len(sample_df) < num_images:\n",
    "        \n",
    "        #people or animals\n",
    "        extra_sample = data[(data['Category'] == 1) | (data['Category'] == 3)].sample(3)\n",
    "        sample_df = sample_df.append(extra_sample)\n",
    "        sample_df = sample_df.drop_duplicates()\n",
    "            \n",
    "    return sample_df"
   ]
  }
 ]
}